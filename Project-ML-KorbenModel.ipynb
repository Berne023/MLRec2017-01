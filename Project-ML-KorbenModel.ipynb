{
 "cells": [
  {
   "cell_type": "markdown",
   "metadata": {},
   "source": [
    "# Machine Learning Project\n",
    "## Paper: Factorization meets the neighborhood- a multifaceted collaborative filtering model\n",
    "\n",
    "### Students:\n",
    "Bernardo CARDOSO CORDEIRO <br>\n",
    "Gauthier DAMIEN <br>\n",
    "Hugo RICHARD"
   ]
  },
  {
   "cell_type": "code",
   "execution_count": 1,
   "metadata": {
    "collapsed": true
   },
   "outputs": [],
   "source": [
    "from sklearn.metrics import mean_squared_error\n",
    "import pandas as pd\n",
    "import numpy as np\n",
    "import gzip\n",
    "import random\n",
    "import math\n",
    "import operator\n",
    "from scipy.sparse import csr_matrix\n",
    "from sklearn.model_selection import train_test_split\n",
    "import matplotlib.pyplot as plt\n",
    "%matplotlib inline"
   ]
  },
  {
   "cell_type": "markdown",
   "metadata": {},
   "source": [
    "## Function and class definitions"
   ]
  },
  {
   "cell_type": "code",
   "execution_count": 2,
   "metadata": {
    "collapsed": true
   },
   "outputs": [],
   "source": [
    "def getDF(min_item=100, min_user=5):\n",
    "    \"\"\"Gets the dataset from Amazon\n",
    "    min_item is the minimum number of ratings an item must have received to be in the dataset\n",
    "    min_user is the minimum number of ratings a user must have given to be in the dataset\"\"\"\n",
    "    \n",
    "    #load data\n",
    "    columns = [\"userID\", \"itemID\", \"rating\", \"timestamp\"]\n",
    "    data = pd.read_csv(\"ratings_Musical_Instruments.csv\", names=columns)\n",
    "    #Take relevant items\n",
    "    df2 = data.groupby([\"itemID\"]).count()\n",
    "    sl2 = list(df2[df2[\"userID\"] > min_item].index)\n",
    "    df = data[data['itemID'].isin(sl2)]\n",
    "    #Take relevant users\n",
    "    df3 = df.groupby([\"userID\"]).count()\n",
    "    sl3 = list(df3[df3[\"itemID\"] > min_user].index)\n",
    "    df_final = df[df['userID'].isin(sl3)]\n",
    "    return df_final"
   ]
  },
  {
   "cell_type": "code",
   "execution_count": 3,
   "metadata": {
    "collapsed": true
   },
   "outputs": [],
   "source": [
    "def generate_toy(n_users=50, n_products=1000, p=0.1):\n",
    "    \"\"\"Generates random dataset\"\"\"\n",
    "    columns = [\"userID\", \"itemID\", \"rating\", \"timestamp\"]\n",
    "    n_ratings = int(n_users*n_products*p)\n",
    "    dataset = np.empty([n_ratings, 4])\n",
    "    \n",
    "    #Scored dict keeps track of which pairs u,i have already received a score\n",
    "    scored = {}\n",
    "    for j in range(n_ratings):\n",
    "        already_scored = True\n",
    "        while already_scored:\n",
    "            u = random.randint(1,n_users)\n",
    "            i = random.randint(1,n_products)\n",
    "            if u in scored:\n",
    "                if i in scored[u]:\n",
    "                    already_scored = True\n",
    "                else:\n",
    "                    already_scored = False\n",
    "                    scored[u][i] = 1\n",
    "            else:\n",
    "                already_scored = False\n",
    "                scored[u] = {}\n",
    "                scored[u][i] = 0\n",
    "        score = random.randint(1,5)\n",
    "        dataset[j] = [u, i, score, j]\n",
    "    df = pd.DataFrame(dataset, columns=columns)\n",
    "    df.sort_values('itemID', inplace=True)\n",
    "    return df"
   ]
  },
  {
   "cell_type": "code",
   "execution_count": 11,
   "metadata": {
    "collapsed": false
   },
   "outputs": [],
   "source": [
    "class rec_model:\n",
    "    \"\"\"Class implementing the recommender system model\"\"\"\n",
    "    \n",
    "    def __init__(self, df):\n",
    "        \"\"\"Builds a sparse matrix of the rating to be used for the similarity\n",
    "        Moreover, makes a mapping of the indexes in the matrix to the items/user IDs and vice-versa\"\"\"\n",
    "        \n",
    "        users = df['userID'].unique()\n",
    "        items = df['itemID'].unique()\n",
    "        n_users = users.shape[0]\n",
    "        n_items = items.shape[0]\n",
    "\n",
    "        u_to_index = {}\n",
    "        i_to_index = {}\n",
    "        index_to_i = {}\n",
    "\n",
    "        for i in range(len(users)):\n",
    "            u_to_index[users[i]] = i\n",
    "        for i in range(len(items)):\n",
    "            i_to_index[items[i]] = i\n",
    "            index_to_i[i] = items[i]\n",
    "\n",
    "        ratings = csr_matrix((n_items, n_users))\n",
    "        for index, row in df.iterrows():\n",
    "            i = row['itemID']\n",
    "            u = row['userID']\n",
    "            ratings[i_to_index[i], u_to_index[u]] = row['rating']\n",
    "            \n",
    "        self.ratings = ratings\n",
    "        self.u_to_index = u_to_index\n",
    "        self.i_to_index = i_to_index\n",
    "        self.index_to_i = index_to_i\n",
    "    \n",
    "    def fast_Sk(self, k=5):\n",
    "        \"\"\"Calculates similarity and finds k-most similar items\n",
    "        Uses sparse matrices, which makes it fast to compute\"\"\"\n",
    "        \n",
    "        sim = self.ratings.dot(self.ratings.transpose())\n",
    "        norms = np.array([np.sqrt(sim.diagonal())])\n",
    "        Sk = {}\n",
    "        for i in range(sim.shape[0]):\n",
    "            Sk[self.index_to_i[i]] = []\n",
    "            if not np.all(norms):\n",
    "                print \"Norm contains zero! Values might contain NaNs!\"\n",
    "            row = (sim.getrow(i).toarray() / norms / norms.T[i])[0]\n",
    "            sorted_row = np.argsort(row)\n",
    "            sorted_row = sorted_row[-5:]\n",
    "            for index in sorted_row:\n",
    "                if row[index] != 0:\n",
    "                    Sk[self.index_to_i[i]].append(self.index_to_i[index])\n",
    "        return Sk\n",
    "        \n",
    "    def calculate_baseline(self, df, gamma=0.01, lamb=0.01, n_iter=15):\n",
    "        \"\"\"Calculates baselines used in the model, as explained in the report\"\"\"\n",
    "        \n",
    "        mu = df['rating'].mean()\n",
    "\n",
    "        n_items = len(df['itemID'].unique())\n",
    "        n_users = len(df['userID'].unique())\n",
    "\n",
    "        bias_u = {}\n",
    "        bias_i = {}\n",
    "\n",
    "        for user in df['userID'].unique():\n",
    "            bias_u[user] = 0\n",
    "        for item in df['itemID'].unique():\n",
    "            bias_i[item] = 0\n",
    "\n",
    "        for n in range(n_iter):\n",
    "            for index, row in df.iterrows():\n",
    "                rui = row['rating']\n",
    "                bu = bias_u[row['userID']]\n",
    "                bi = bias_i[row['itemID']]\n",
    "                eui = rui - mu - bu - bi\n",
    "                bias_u[row['userID']] = bu + gamma*(eui - lamb*bu)\n",
    "                bias_i[row['itemID']] = bi + gamma*(eui - lamb*bi)\n",
    "        return bias_u, bias_i\n",
    "\n",
    "    def N_k(self, N, Sk, i, u):\n",
    "        \"\"\"Calculates Nk using N and Sk. In this case Rk and Nk are the same, as explained in the report\"\"\"\n",
    "        intersect = []\n",
    "        if u in N and i in Sk:\n",
    "            for j in N[u]: \n",
    "                if j in Sk[i]:\n",
    "                    intersect.append(j)\n",
    "        return intersect\n",
    "        \n",
    "    def fit(self, df, g1=0.007, g2=0.007, g3=0.001, l6 = 0.005, l7=0.015, l8=0.015, rf=3, n_iter=15, verbose=False):\n",
    "        \"\"\"Fits the model to the data\"\"\"\n",
    "        self.rf = rf\n",
    "        pu = {}\n",
    "        qi = {}\n",
    "        y = {}\n",
    "\n",
    "        if verbose:\n",
    "            print \"Initializing pu, qi, y, c, w and rui_dict... \"\n",
    "\n",
    "        for user in df['userID'].unique():\n",
    "            pu[user] = np.ones((rf,1))\n",
    "        for item in df['itemID'].unique():\n",
    "            qi[item] = np.ones((rf,1))\n",
    "            y[item] = np.ones((rf,1))\n",
    "\n",
    "        c = {}\n",
    "        w = {}\n",
    "        rui_dict = {}\n",
    "        for index, row in df.iterrows():\n",
    "            u = row['userID']\n",
    "            i = row['itemID']\n",
    "            if u not in rui_dict:\n",
    "                rui_dict[u] = {}\n",
    "            rui_dict[u][i] = row['rating']\n",
    "            \n",
    "        if np.any(np.isnan(pu.values())) or np.any(np.isnan(qi.values())) or np.any(np.isnan(y.values())):\n",
    "            print \"Nan values present...\"\n",
    "        \n",
    "        if verbose:\n",
    "            print \"Done!\\nInitializing N... \"\n",
    "\n",
    "        N = {}\n",
    "        items_by_user = df.drop(['timestamp'], axis=1).groupby(['userID'])\n",
    "        for u, group in items_by_user:\n",
    "            N[u] = np.array(group['itemID'])\n",
    "            \n",
    "        if verbose:\n",
    "            print \"Done!\\nCalculating baselines... \"\n",
    "\n",
    "        bias_u, bias_i = self.calculate_baseline(df)\n",
    "        \n",
    "        if np.any(np.isnan(bias_u.values())) or np.any(np.isnan(bias_i.values())):\n",
    "            \"Nan values present in baseline...\"\n",
    "\n",
    "        mu = df['rating'].mean()\n",
    "        b_u = {}\n",
    "        b_i = {}\n",
    "        for user in df['userID'].unique():\n",
    "            b_u[user] = 0\n",
    "        for item in df['itemID'].unique():\n",
    "            b_i[item] = 0\n",
    "\n",
    "        if verbose:\n",
    "            print \"Done!\\nCalculating similarities... \"\n",
    "            \n",
    "        Sk = self.fast_Sk(k = 5)\n",
    "\n",
    "        if verbose:\n",
    "            print \"Done!\\nIterating through dataset... \\n\"\n",
    "\n",
    "        for n in range(n_iter):\n",
    "            if verbose:\n",
    "                print \"Iteration number: \" + str(n) + \"\\n\"\n",
    "            for index, row in df.iterrows():\n",
    "                rui = row['rating']\n",
    "                u = row['userID']\n",
    "                i = row['itemID']\n",
    "\n",
    "                sum_yj = np.zeros((rf,1))\n",
    "                for j in N[u]:\n",
    "                    sum_yj += y[j] \n",
    "\n",
    "                Nk = self.N_k(N, Sk, i, u)\n",
    "\n",
    "                sum_cij = 0\n",
    "                sum_wij = 0\n",
    "                for j in Nk:\n",
    "                    if i not in c:\n",
    "                        c[i] = {}\n",
    "                    if j not in c[i]:\n",
    "                        c[i][j] = 0\n",
    "                    if np.isnan(c[i][j]):\n",
    "                        print \"Nan in cij, i and j: \" + str(i) + ' ' + str(j)\n",
    "                    sum_cij += c[i][j]\n",
    "\n",
    "                    if i not in w:\n",
    "                        w[i] = {}\n",
    "                    if j not in w[i]:\n",
    "                        w[i][j] = 0\n",
    "                    if np.isnan(w[i][j]):\n",
    "                        print \"Nan in wij, i and j: \" + str(i) + ' ' + str(j)\n",
    "                    sum_wij += w[i][j]*(rui_dict[u][j] - mu - bias_u[u] - bias_i[j])\n",
    "                    \n",
    "                    \n",
    "                if len(Nk) != 0:\n",
    "                    C_Nk=math.pow(len(Nk), -0.5)\n",
    "                else:\n",
    "                    C_Nk=0\n",
    "                if len(N[u]) != 0:\n",
    "                    C_N=math.pow(len(N[u]), -0.5)\n",
    "                else:\n",
    "                    C_N=0\n",
    "                rui_e = mu + b_u[u] + b_i[i] + qi[i].T.dot(pu[u] + C_N*sum_yj) + C_Nk*(sum_cij + sum_wij)\n",
    "                if np.isnan(rui_e) or np.isinf(rui_e):\n",
    "                    print mu, b_u[u], b_i[i], qi[i], pu[u], C_N, sum_yj, C_Nk, sum_cij, sum_wij\n",
    "                eui = rui - rui_e\n",
    "\n",
    "                b_u[u] += g1*(eui - l6*b_u[u])\n",
    "                b_i[i] += g1*(eui - l6*b_i[i])\n",
    "                qi[i] += g2*(eui*(pu[u] + C_N*sum_yj) - l7*qi[i])\n",
    "                pu[u] += g2*(eui*qi[i] - l7*pu[u])\n",
    "                for j in N[u]:\n",
    "                    y[j] += g2*(eui*C_N*qi[i] - l7*y[j])\n",
    "                for j in Nk:\n",
    "                    w[i][j] += g3*(C_Nk*eui*(rui_dict[u][j] - mu - bias_u[u] - bias_i[j]) - l8*w[i][j])\n",
    "                    c[i][j] += g3*(C_Nk*eui - l8*c[i][j])\n",
    "        if verbose:\n",
    "            print \"Done!\\nStoring final parameter values... \"\n",
    "            \n",
    "        self.pu = pu\n",
    "        self.qi = qi\n",
    "        self.y = y\n",
    "        self.c = c\n",
    "        self.w = w\n",
    "        self.b_u = b_u\n",
    "        self.b_i = b_i\n",
    "        self.rui_dict = rui_dict\n",
    "        self.bias_u = bias_u\n",
    "        self.bias_i = bias_i\n",
    "        self.mu = mu\n",
    "        self.N = N\n",
    "        self.Sk = Sk\n",
    "        \n",
    "        if verbose:\n",
    "            print \"All done!\\n\"\n",
    "    \n",
    "    def estimate(self, u, i):\n",
    "        \"\"\"Estimates the rating user u would give to item i\"\"\"\n",
    "        bu = 0\n",
    "        bi = 0\n",
    "        q = np.zeros((self.rf,1))\n",
    "        p = np.zeros((self.rf,1))\n",
    "        if u in self.b_u:\n",
    "            bu = self.b_u[u]\n",
    "        if i in self.b_i:\n",
    "            bi = self.b_i[i]\n",
    "        if i in self.qi:\n",
    "            q = self.qi[i]\n",
    "        if u in self.pu:\n",
    "            p = self.pu[u]\n",
    "            \n",
    "        sum_yj = np.zeros((self.rf,1))\n",
    "        if u in self.N:\n",
    "            for j in self.N[u]:\n",
    "                if j in self.y:\n",
    "                    sum_yj += self.y[j]\n",
    "\n",
    "        Nk = self.N_k(self.N, self.Sk, i, u)\n",
    "\n",
    "        sum_cij = 0\n",
    "        sum_wij = 0\n",
    "        for j in Nk:\n",
    "            if i in self.c:\n",
    "                if j in self.c[i]:\n",
    "                    sum_cij += self.c[i][j]\n",
    "\n",
    "            if i in self.w and u in self.rui_dict:\n",
    "                if j in self.w[i] and j in self.rui_dict[u]:\n",
    "                    bias_user = 0\n",
    "                    bias_item = 0\n",
    "                    if u in self.bias_u:\n",
    "                        bias_user = self.bias_u[u]\n",
    "                    if j in self.bias_i:\n",
    "                        bias_item = self.bias_i[j]\n",
    "                    sum_wij += self.w[i][j]*(self.rui_dict[u][j] - self.mu - bias_user - bias_item)\n",
    "                    \n",
    "        if len(Nk) != 0:\n",
    "            C_Nk=math.pow(len(Nk), -0.5)\n",
    "        else:\n",
    "            C_Nk=0\n",
    "        C_N=0\n",
    "        if u in self.N:\n",
    "            if len(self.N[u]) != 0:\n",
    "                C_N=math.pow(len(self.N[u]), -0.5)   \n",
    "        rui_e = self.mu + bu + bi + q.T.dot(p + C_N*sum_yj) + C_Nk*(sum_cij + sum_wij)\n",
    "        return rui_e[0][0]"
   ]
  },
  {
   "cell_type": "markdown",
   "metadata": {},
   "source": [
    "## Amazon"
   ]
  },
  {
   "cell_type": "markdown",
   "metadata": {},
   "source": [
    "Warning: values in range function represent the number of iterations to be run for the model (and then used to make a plot). High values will take more time, so change them accordingly"
   ]
  },
  {
   "cell_type": "code",
   "execution_count": 5,
   "metadata": {
    "collapsed": false
   },
   "outputs": [
    {
     "name": "stdout",
     "output_type": "stream",
     "text": [
      "200\n",
      "400\n",
      "600\n",
      "800\n",
      "1000\n"
     ]
    },
    {
     "name": "stderr",
     "output_type": "stream",
     "text": [
      "C:\\Users\\Berne\\Anaconda2\\lib\\site-packages\\scipy\\sparse\\compressed.py:730: SparseEfficiencyWarning: Changing the sparsity structure of a csr_matrix is expensive. lil_matrix is more efficient.\n",
      "  SparseEfficiencyWarning)\n"
     ]
    },
    {
     "data": {
      "text/plain": [
       "<matplotlib.legend.Legend at 0xb54a9e8>"
      ]
     },
     "execution_count": 5,
     "metadata": {},
     "output_type": "execute_result"
    },
    {
     "data": {
      "image/png": "[encoded data removed]",
      "text/plain": [
       "<matplotlib.figure.Figure at 0xa3945f8>"
      ]
     },
     "metadata": {},
     "output_type": "display_data"
    }
   ],
   "source": [
    "df = getDF(20, 5)\n",
    "df_train, df_test = train_test_split(df)\n",
    "model = rec_model(df_train)\n",
    "\n",
    "n_it = []\n",
    "mse_test = []\n",
    "mse_train = []\n",
    "#Values for the number of iterations\n",
    "for n in range(200,1001,200):\n",
    "    print n\n",
    "    n_it.append(n)\n",
    "    model.fit(df_train, n_iter=n, g1=0.001, g2=0.001, verbose=False)\n",
    "\n",
    "    rui_pred_test = []\n",
    "    rui_pred_train = []\n",
    "    rui_test = []\n",
    "    rui_train = []\n",
    "    for index, row in df_test.iterrows():\n",
    "        u = row['userID']\n",
    "        i = row['itemID']\n",
    "        rui_test.append(row['rating'])\n",
    "        est = model.estimate(u, i)\n",
    "        rui_pred_test.append(est)\n",
    "    for index, row in df_train.iterrows():\n",
    "        u = row['userID']\n",
    "        i = row['itemID']\n",
    "        rui_train.append(row['rating'])\n",
    "        est = model.estimate(u, i)\n",
    "        rui_pred_train.append(est)\n",
    "    mse_test.append(mean_squared_error(rui_test, rui_pred_test))\n",
    "    mse_train.append(mean_squared_error(rui_train, rui_pred_train))\n",
    "    \n",
    "m = df_train['rating'].mean()\n",
    "rui_pred_m = [m for i in range(len(df_test))]\n",
    "m_mse = mean_squared_error(rui_test, rui_pred_m)\n",
    "m_mse_plot = [m_mse for i in range(len(mse_test))]\n",
    "\n",
    "l1, = plt.plot(n_it, mse_test, c=\"b\", label=\"Test\")\n",
    "l2, = plt.plot(n_it, mse_train, c=\"g\", label=\"Train\")\n",
    "l3, = plt.plot(n_it, m_mse_plot, c=\"r\", label=\"Average\")\n",
    "plt.xlabel(\"Number of iterations\")\n",
    "plt.ylabel(\"MSE\")\n",
    "plt.legend([l1, l2, l3], ['Test', 'Train', 'Average'])"
   ]
  },
  {
   "cell_type": "markdown",
   "metadata": {},
   "source": [
    "This graph, as well as the other one below for a smaller number of iterations, show that the MSE decreases with the number of iterations, which is expected. It is worth noting that no optimization of the hyperparameters was made, so these results might not be the best ones."
   ]
  },
  {
   "cell_type": "markdown",
   "metadata": {},
   "source": [
    "### WARNING\n",
    "Running the next cell again will cause the plot to be lost/replaced!!"
   ]
  },
  {
   "cell_type": "code",
   "execution_count": 17,
   "metadata": {
    "collapsed": false
   },
   "outputs": [
    {
     "data": {
      "text/plain": [
       "<matplotlib.legend.Legend at 0xdfacb70>"
      ]
     },
     "execution_count": 17,
     "metadata": {},
     "output_type": "execute_result"
    },
    {
     "data": {
      "image/png": "[encoded data removed]",
      "text/plain": [
       "<matplotlib.figure.Figure at 0xbb38e48>"
      ]
     },
     "metadata": {},
     "output_type": "display_data"
    }
   ],
   "source": [
    "l1, = plt.plot(n_it, mse_test, c=\"b\", label=\"Test\")\n",
    "l2, = plt.plot(n_it, mse_train, c=\"g\", label=\"Train\")\n",
    "l3, = plt.plot(n_it, m_mse_plot, c=\"r\", label=\"Average\")\n",
    "plt.xlabel(\"Number of iterations\")\n",
    "plt.ylabel(\"MSE\")\n",
    "plt.legend([l1, l2, l3], ['Test', 'Train', 'Average'])"
   ]
  },
  {
   "cell_type": "markdown",
   "metadata": {},
   "source": [
    "This last plot takes number of iterations from 20 to 90, incrementing by 10 each time."
   ]
  },
  {
   "cell_type": "markdown",
   "metadata": {},
   "source": [
    "## Toy"
   ]
  },
  {
   "cell_type": "code",
   "execution_count": 14,
   "metadata": {
    "collapsed": false
   },
   "outputs": [
    {
     "name": "stdout",
     "output_type": "stream",
     "text": [
      "20\n",
      "30\n",
      "40\n",
      "50\n",
      "60\n",
      "70\n",
      "80\n",
      "90\n"
     ]
    },
    {
     "data": {
      "text/plain": [
       "<matplotlib.legend.Legend at 0xef96f98>"
      ]
     },
     "execution_count": 14,
     "metadata": {},
     "output_type": "execute_result"
    },
    {
     "data": {
      "image/png": "[encoded data removed]",
      "text/plain": [
       "<matplotlib.figure.Figure at 0xe43bef0>"
      ]
     },
     "metadata": {},
     "output_type": "display_data"
    }
   ],
   "source": [
    "import matplotlib.pyplot as plt\n",
    "from sklearn.model_selection import train_test_split\n",
    "%matplotlib inline\n",
    "\n",
    "df = generate_toy(50, 100, 0.2)\n",
    "df_train, df_test = train_test_split(df)\n",
    "model = rec_model(df_train)\n",
    "\n",
    "n_it = []\n",
    "mse_test = []\n",
    "mse_train = []\n",
    "for n in range(20,100,10):\n",
    "    print n\n",
    "    n_it.append(n)\n",
    "    model.fit(df_train, n_iter=n, g1=0.001, g2=0.001, verbose=False)\n",
    "\n",
    "    rui_pred_test = []\n",
    "    rui_pred_train = []\n",
    "    rui_test = []\n",
    "    rui_train = []\n",
    "    for index, row in df_test.iterrows():\n",
    "        u = row['userID']\n",
    "        i = row['itemID']\n",
    "        rui_test.append(row['rating'])\n",
    "        est = model.estimate(u, i)\n",
    "        rui_pred_test.append(est)\n",
    "    for index, row in df_train.iterrows():\n",
    "        u = row['userID']\n",
    "        i = row['itemID']\n",
    "        rui_train.append(row['rating'])\n",
    "        est = model.estimate(u, i)\n",
    "        rui_pred_train.append(est)\n",
    "    mse_test.append(mean_squared_error(rui_test, rui_pred_test))\n",
    "    mse_train.append(mean_squared_error(rui_train, rui_pred_train))\n",
    "    \n",
    "m = df_train['rating'].mean()\n",
    "rui_pred_m = [m for i in range(len(df_test))]\n",
    "m_mse = mean_squared_error(rui_test, rui_pred_m)\n",
    "m_mse_plot = [m_mse for i in range(len(mse_test))]\n",
    "\n",
    "l1, = plt.plot(n_it, mse_test, c=\"b\", label=\"Test\")\n",
    "l2, = plt.plot(n_it, mse_train, c=\"g\", label=\"Train\")\n",
    "l3, = plt.plot(n_it, m_mse_plot, c=\"r\", label=\"Average\")\n",
    "plt.xlabel(\"Number of iterations\")\n",
    "plt.ylabel(\"MSE\")\n",
    "plt.legend([l1, l2, l3], ['Test', 'Train', 'Average'])"
   ]
  },
  {
   "cell_type": "markdown",
   "metadata": {},
   "source": [
    "### WARNING\n",
    "Rerunning the cell below will overwrite the graph, since this was obtained with a different number of iterations"
   ]
  },
  {
   "cell_type": "code",
   "execution_count": 8,
   "metadata": {
    "collapsed": false
   },
   "outputs": [
    {
     "data": {
      "text/plain": [
       "<matplotlib.legend.Legend at 0xb6229e8>"
      ]
     },
     "execution_count": 8,
     "metadata": {},
     "output_type": "execute_result"
    },
    {
     "data": {
      "image/png": "[encoded data removed]",
      "text/plain": [
       "<matplotlib.figure.Figure at 0xb5490b8>"
      ]
     },
     "metadata": {},
     "output_type": "display_data"
    }
   ],
   "source": [
    "l1, = plt.plot(n_it, mse_test, c=\"b\", label=\"Test\")\n",
    "l2, = plt.plot(n_it, mse_train, c=\"g\", label=\"Train\")\n",
    "l3, = plt.plot(n_it, m_mse_plot, c=\"r\", label=\"Average\")\n",
    "plt.xlabel(\"Number of iterations\")\n",
    "plt.ylabel(\"MSE\")\n",
    "plt.legend([l1, l2, l3], ['Test', 'Train', 'Average'])"
   ]
  },
  {
   "cell_type": "markdown",
   "metadata": {},
   "source": [
    "In this graph, we see that, apparently, the MSE for the test converges to the MSE given by the using the traning set average rating as the prediction."
   ]
  },
  {
   "cell_type": "markdown",
   "metadata": {},
   "source": [
    "### LOO-CV code\n",
    "Code used for LOO-CV: takes quite a while to run. Had to run it in a separate script which is why the result is not available here. The given result for the toy dataset was 2.29, with n_iter = 15. Given the graph above, this result is not unexpected. It was not tested with the Amazon dataset due to its size."
   ]
  },
  {
   "cell_type": "code",
   "execution_count": null,
   "metadata": {
    "collapsed": false
   },
   "outputs": [],
   "source": [
    "from sklearn.model_selection import train_test_split\n",
    "#V-fold CV\n",
    "rui = []\n",
    "rui_pred = []\n",
    "for i in range(len(df)):\n",
    "    print i\n",
    "    df_test = df[i:i+1]\n",
    "    df_train = df.drop(df.index[[i]])\n",
    "    model = rec_model(df)\n",
    "    model.fit(df_train, n_iter=15)\n",
    "    rui.append(np.array(df_test['rating'])[0])\n",
    "    rui_pred.append(model.estimate(np.array(df_test['userID'])[0], np.array(df_test['itemID'])[0]))"
   ]
  }
 ],
 "metadata": {
  "kernelspec": {
   "display_name": "Python 2",
   "language": "python",
   "name": "python2"
  },
  "language_info": {
   "codemirror_mode": {
    "name": "ipython",
    "version": 2
   },
   "file_extension": ".py",
   "mimetype": "text/x-python",
   "name": "python",
   "nbconvert_exporter": "python",
   "pygments_lexer": "ipython2",
   "version": "2.7.13"
  }
 },
 "nbformat": 4,
 "nbformat_minor": 0
}
